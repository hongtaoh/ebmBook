{
 "cells": [
  {
   "cell_type": "markdown",
   "metadata": {},
   "source": [
    "# Estimate S\n",
    "\n",
    "Now we come to the core part of our project: how can we estimate $S$, without knowing $\\theta, \\phi, k_j$?\n",
    "\n",
    "Basically, this is the data we have:"
   ]
  },
  {
   "cell_type": "code",
   "execution_count": 5,
   "metadata": {},
   "outputs": [
    {
     "data": {
      "text/html": [
       "<div>\n",
       "<style scoped>\n",
       "    .dataframe tbody tr th:only-of-type {\n",
       "        vertical-align: middle;\n",
       "    }\n",
       "\n",
       "    .dataframe tbody tr th {\n",
       "        vertical-align: top;\n",
       "    }\n",
       "\n",
       "    .dataframe thead th {\n",
       "        text-align: right;\n",
       "    }\n",
       "</style>\n",
       "<table border=\"1\" class=\"dataframe\">\n",
       "  <thead>\n",
       "    <tr style=\"text-align: right;\">\n",
       "      <th></th>\n",
       "      <th>participant</th>\n",
       "      <th>biomarker</th>\n",
       "      <th>measurement</th>\n",
       "      <th>diseased</th>\n",
       "    </tr>\n",
       "  </thead>\n",
       "  <tbody>\n",
       "    <tr>\n",
       "      <th>0</th>\n",
       "      <td>0</td>\n",
       "      <td>HIP-FCI</td>\n",
       "      <td>3.135981</td>\n",
       "      <td>False</td>\n",
       "    </tr>\n",
       "    <tr>\n",
       "      <th>1</th>\n",
       "      <td>1</td>\n",
       "      <td>HIP-FCI</td>\n",
       "      <td>12.593704</td>\n",
       "      <td>True</td>\n",
       "    </tr>\n",
       "    <tr>\n",
       "      <th>2</th>\n",
       "      <td>2</td>\n",
       "      <td>HIP-FCI</td>\n",
       "      <td>6.220776</td>\n",
       "      <td>False</td>\n",
       "    </tr>\n",
       "    <tr>\n",
       "      <th>3</th>\n",
       "      <td>3</td>\n",
       "      <td>HIP-FCI</td>\n",
       "      <td>3.545100</td>\n",
       "      <td>False</td>\n",
       "    </tr>\n",
       "    <tr>\n",
       "      <th>4</th>\n",
       "      <td>4</td>\n",
       "      <td>HIP-FCI</td>\n",
       "      <td>3.966541</td>\n",
       "      <td>False</td>\n",
       "    </tr>\n",
       "  </tbody>\n",
       "</table>\n",
       "</div>"
      ],
      "text/plain": [
       "   participant biomarker  measurement  diseased\n",
       "0            0   HIP-FCI     3.135981     False\n",
       "1            1   HIP-FCI    12.593704      True\n",
       "2            2   HIP-FCI     6.220776     False\n",
       "3            3   HIP-FCI     3.545100     False\n",
       "4            4   HIP-FCI     3.966541     False"
      ]
     },
     "execution_count": 5,
     "metadata": {},
     "output_type": "execute_result"
    }
   ],
   "source": [
    "import pandas as pd \n",
    "output_dir = 'data'\n",
    "df = pd.read_csv(f\"{output_dir}/150|200_3.csv\").drop(\n",
    "    ['k_j', 'S_n', 'affected_or_not'], axis = 1)\n",
    "df.head()"
   ]
  },
  {
   "cell_type": "markdown",
   "metadata": {},
   "source": [
    "The main idea is this:\n",
    "\n",
    "- We need to know $\\theta, \\phi$ first before we can estimate likelihoods. To estimate $\\theta, \\phi$, there are three approaches covered in @sec-estimate-dist-params.\n",
    "\n",
    "- We try many different $S$ and calculate its associated likelihood. We either accept or reject this $S$ according to [Metropolis–Hastings algorithm](https://en.wikipedia.org/wiki/Metropolis%E2%80%93Hastings_algorithm).\n",
    "\n",
    "In the following, We will cover three different approaches to estimate $S$:\n",
    "\n",
    "- Constrained K-Means\n",
    "- Conjugate Priors\n",
    "- Soft K-Means"
   ]
  }
 ],
 "metadata": {
  "kernelspec": {
   "display_name": "bayes",
   "language": "python",
   "name": "python3"
  },
  "language_info": {
   "codemirror_mode": {
    "name": "ipython",
    "version": 3
   },
   "file_extension": ".py",
   "mimetype": "text/x-python",
   "name": "python",
   "nbconvert_exporter": "python",
   "pygments_lexer": "ipython3",
   "version": "3.8.19"
  }
 },
 "nbformat": 4,
 "nbformat_minor": 2
}
